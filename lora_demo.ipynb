{
 "cells": [
  {
   "cell_type": "code",
   "execution_count": 1,
   "id": "79463d52-f923-4e2a-b705-36bf69b246b7",
   "metadata": {
    "ExecutionIndicator": {
     "show": true
    },
    "execution": {
     "iopub.execute_input": "2024-07-18T08:25:48.811704Z",
     "iopub.status.busy": "2024-07-18T08:25:48.811274Z",
     "iopub.status.idle": "2024-07-18T08:25:52.160730Z",
     "shell.execute_reply": "2024-07-18T08:25:52.160220Z",
     "shell.execute_reply.started": "2024-07-18T08:25:48.811680Z"
    },
    "tags": []
   },
   "outputs": [
    {
     "name": "stdout",
     "output_type": "stream",
     "text": [
      "正克隆到 'lora_demo'...\n",
      "remote: Enumerating objects: 145, done.\u001b[K\n",
      "remote: Counting objects: 100% (145/145), done.\u001b[K\n",
      "remote: Compressing objects: 100% (100/100), done.\u001b[K\n",
      "remote: Total 145 (delta 63), reused 109 (delta 38), pack-reused 0\u001b[K\n",
      "接收对象中: 100% (145/145), 7.18 MiB | 4.38 MiB/s, 完成.\n",
      "处理 delta 中: 100% (63/63), 完成.\n"
     ]
    }
   ],
   "source": [
    "!git clone https://github.com/tylerelyt/lora_demo.git"
   ]
  },
  {
   "cell_type": "code",
   "execution_count": 2,
   "id": "24e6fe4a-9b04-497e-891f-7ef2f345f7ef",
   "metadata": {
    "ExecutionIndicator": {
     "show": true
    },
    "execution": {
     "iopub.execute_input": "2024-07-18T08:25:53.362789Z",
     "iopub.status.busy": "2024-07-18T08:25:53.362441Z",
     "iopub.status.idle": "2024-07-18T08:25:53.366875Z",
     "shell.execute_reply": "2024-07-18T08:25:53.366371Z",
     "shell.execute_reply.started": "2024-07-18T08:25:53.362770Z"
    },
    "tags": []
   },
   "outputs": [
    {
     "name": "stdout",
     "output_type": "stream",
     "text": [
      "/mnt/workspace/lora_demo/llama_tuning/lora_single_gpu\n"
     ]
    }
   ],
   "source": [
    "%cd /mnt/workspace/lora_demo/llama_tuning/lora_single_gpu"
   ]
  },
  {
   "cell_type": "code",
   "execution_count": 3,
   "id": "61105ae1-fcb6-42a6-b3e6-16da020b3585",
   "metadata": {
    "ExecutionIndicator": {
     "show": true
    },
    "execution": {
     "iopub.execute_input": "2024-07-18T08:25:54.625255Z",
     "iopub.status.busy": "2024-07-18T08:25:54.624929Z",
     "iopub.status.idle": "2024-07-18T08:25:54.789767Z",
     "shell.execute_reply": "2024-07-18T08:25:54.788983Z",
     "shell.execute_reply.started": "2024-07-18T08:25:54.625235Z"
    },
    "tags": []
   },
   "outputs": [],
   "source": [
    "!export HF_ENDPOINT=https://hf-mirror.com"
   ]
  },
  {
   "cell_type": "code",
   "execution_count": 8,
   "id": "5d7290b0-a58c-4361-be5b-37b404dd1ba1",
   "metadata": {
    "ExecutionIndicator": {
     "show": false
    },
    "execution": {
     "iopub.execute_input": "2024-07-18T08:18:42.398503Z",
     "iopub.status.busy": "2024-07-18T08:18:42.398164Z",
     "iopub.status.idle": "2024-07-18T08:18:44.350922Z",
     "shell.execute_reply": "2024-07-18T08:18:44.350286Z",
     "shell.execute_reply.started": "2024-07-18T08:18:42.398483Z"
    },
    "tags": []
   },
   "outputs": [
    {
     "name": "stdout",
     "output_type": "stream",
     "text": [
      "Token is valid (permission: read).\n",
      "Your token has been saved in your configured git credential helpers (store).\n",
      "Your token has been saved to /root/.cache/huggingface/token\n",
      "Login successful\n"
     ]
    }
   ],
   "source": [
    "!HF_ENDPOINT=https://hf-mirror.com huggingface-cli login --token $YOUR_TOKEN --add-to-git-credential"
   ]
  },
  {
   "cell_type": "code",
   "execution_count": null,
   "id": "d4338119-5092-4ea3-a25d-2ae4642a54de",
   "metadata": {
    "ExecutionIndicator": {
     "show": true
    },
    "tags": []
   },
   "outputs": [],
   "source": [
    "!python trainer.py"
   ]
  }
 ],
 "metadata": {
  "kernelspec": {
   "display_name": "Python 3 (ipykernel)",
   "language": "python",
   "name": "python3"
  },
  "language_info": {
   "codemirror_mode": {
    "name": "ipython",
    "version": 3
   },
   "file_extension": ".py",
   "mimetype": "text/x-python",
   "name": "python",
   "nbconvert_exporter": "python",
   "pygments_lexer": "ipython3",
   "version": "3.10.14"
  }
 },
 "nbformat": 4,
 "nbformat_minor": 5
}
